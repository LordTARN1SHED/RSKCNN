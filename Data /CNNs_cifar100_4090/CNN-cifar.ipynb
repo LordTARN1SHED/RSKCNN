{
 "cells": [
  {
   "cell_type": "code",
   "execution_count": 1,
   "id": "46bb9098-8178-42ce-9fd0-bc506bc183d6",
   "metadata": {},
   "outputs": [],
   "source": [
    "import tensorflow as tf\n",
    "from tensorflow.keras import layers, models\n",
    "import numpy as np"
   ]
  },
  {
   "cell_type": "code",
   "execution_count": 2,
   "id": "9e60d65f-7077-4c36-af80-d24e8d017a4d",
   "metadata": {},
   "outputs": [],
   "source": [
    "# 加载数据集\n",
    "DataSet = tf.keras.datasets.cifar100\n",
    "(train_images, train_labels), (test_images, test_labels) = DataSet.load_data()"
   ]
  },
  {
   "cell_type": "code",
   "execution_count": 3,
   "id": "6e926149-87a0-466f-bc20-782104a8a97d",
   "metadata": {},
   "outputs": [],
   "source": [
    "# 数据预处理\n",
    "train_images, test_images = train_images / 255.0, test_images / 255.0"
   ]
  },
  {
   "cell_type": "code",
   "execution_count": 4,
   "id": "8c7948e8-ad3a-4d14-b4a9-0d12c2c1e814",
   "metadata": {},
   "outputs": [],
   "source": [
    "class SparseConv2D(layers.Layer):\n",
    "    def __init__(self, filters, kernel_size, p, **kwargs):\n",
    "        super(SparseConv2D, self).__init__(**kwargs)\n",
    "        self.filters = filters\n",
    "        self.kernel_size = kernel_size\n",
    "        self.p = p\n",
    "\n",
    "    def build(self, input_shape):\n",
    "        self.kernel = self.add_weight(name='kernel',\n",
    "                                      shape=(self.kernel_size, self.kernel_size, input_shape[-1], self.filters),\n",
    "                                      initializer='glorot_uniform',\n",
    "                                      trainable=True)\n",
    "        self.bias = self.add_weight(name='bias',\n",
    "                                    shape=(self.filters,),\n",
    "                                    initializer='zeros',\n",
    "                                    trainable=True)\n",
    "\n",
    "    def call(self, inputs, training=None):\n",
    "        if training:\n",
    "            mask = tf.random.uniform(shape=(self.filters,), minval=0, maxval=1)\n",
    "            mask = tf.cast(mask < self.p, dtype=tf.float32)\n",
    "            mask = tf.reshape(mask, [1, 1, 1, self.filters])\n",
    "        else:\n",
    "            mask = tf.ones([1, 1, 1, self.filters]) * self.p\n",
    "    \n",
    "        sparse_kernel = self.kernel * mask\n",
    "        conv = tf.nn.conv2d(inputs, sparse_kernel, strides=[1, 1, 1, 1], padding='SAME')\n",
    "        return tf.nn.bias_add(conv, self.bias)\n",
    "\n",
    "    def update_p(self, new_p):\n",
    "        self.p = new_p"
   ]
  },
  {
   "cell_type": "code",
   "execution_count": 5,
   "id": "22a6edcf-2d63-4f64-a1af-72c9e2a629da",
   "metadata": {},
   "outputs": [
    {
     "name": "stdout",
     "output_type": "stream",
     "text": [
      "Model: \"model\"\n",
      "_________________________________________________________________\n",
      "Layer (type)                 Output Shape              Param #   \n",
      "=================================================================\n",
      "input_1 (InputLayer)         [(None, 32, 32, 3)]       0         \n",
      "_________________________________________________________________\n",
      "sparse_conv2d_1 (SparseConv2 (None, 32, 32, 32)        896       \n",
      "_________________________________________________________________\n",
      "activation (Activation)      (None, 32, 32, 32)        0         \n",
      "_________________________________________________________________\n",
      "max_pooling2d (MaxPooling2D) (None, 16, 16, 32)        0         \n",
      "_________________________________________________________________\n",
      "sparse_conv2d_2 (SparseConv2 (None, 16, 16, 64)        18496     \n",
      "_________________________________________________________________\n",
      "activation_1 (Activation)    (None, 16, 16, 64)        0         \n",
      "_________________________________________________________________\n",
      "max_pooling2d_1 (MaxPooling2 (None, 8, 8, 64)          0         \n",
      "_________________________________________________________________\n",
      "sparse_conv2d_3 (SparseConv2 (None, 8, 8, 128)         73856     \n",
      "_________________________________________________________________\n",
      "activation_2 (Activation)    (None, 8, 8, 128)         0         \n",
      "_________________________________________________________________\n",
      "flatten (Flatten)            (None, 8192)              0         \n",
      "_________________________________________________________________\n",
      "dense (Dense)                (None, 256)               2097408   \n",
      "_________________________________________________________________\n",
      "dense_1 (Dense)              (None, 128)               32896     \n",
      "_________________________________________________________________\n",
      "dense_2 (Dense)              (None, 100)               12900     \n",
      "=================================================================\n",
      "Total params: 2,236,452\n",
      "Trainable params: 2,236,452\n",
      "Non-trainable params: 0\n",
      "_________________________________________________________________\n"
     ]
    }
   ],
   "source": [
    "# 创建模型使用稀疏卷积层\n",
    "inputs = tf.keras.Input(shape=(32, 32, 3))  # 输入层，形状为 (32, 32, 3)\n",
    "x = SparseConv2D(filters=32, kernel_size=3, p=1, name='sparse_conv2d_1')(inputs)  # 第一个稀疏卷积层\n",
    "x = layers.Activation('relu')(x)  # 激活函数\n",
    "x = layers.MaxPooling2D(pool_size=(2, 2))(x)  # 池化层\n",
    "\n",
    "# 添加更多的卷积层\n",
    "x = SparseConv2D(filters=64, kernel_size=3, p=1, name='sparse_conv2d_2')(x)\n",
    "x = layers.Activation('relu')(x)\n",
    "x = layers.MaxPooling2D(pool_size=(2, 2))(x)\n",
    "\n",
    "x = SparseConv2D(filters=128, kernel_size=3, p=0.45, name='sparse_conv2d_3')(x)\n",
    "x = layers.Activation('relu')(x)\n",
    "x = layers.Flatten()(x)  # 全局最大池化层\n",
    "\n",
    "# 添加更多的全连接层\n",
    "x = layers.Dense(256, activation='relu')(x)\n",
    "x = layers.Dense(128, activation='relu')(x)\n",
    "outputs = layers.Dense(100, activation='softmax')(x)  # 输出层，假设输出为100个类别\n",
    "\n",
    "model = models.Model(inputs=inputs, outputs=outputs)\n",
    "model.summary()"
   ]
  },
  {
   "cell_type": "code",
   "execution_count": 6,
   "id": "cfa321ff-683a-4bdb-90f7-bba2c94d6ba4",
   "metadata": {},
   "outputs": [],
   "source": [
    "class UpdatePSparsity(tf.keras.callbacks.Callback):\n",
    "    def __init__(self, model, sparsity_schedule):\n",
    "        super(UpdatePSparsity, self).__init__()\n",
    "        self.model = model\n",
    "        self.sparsity_schedule = sparsity_schedule\n",
    "\n",
    "    def on_epoch_end(self, epoch, logs=None):\n",
    "        for layer_name, new_p in self.sparsity_schedule.items():\n",
    "            layer = self.model.get_layer(name=layer_name)\n",
    "            if epoch < len(new_p):\n",
    "                p_value = new_p[epoch]\n",
    "            else:\n",
    "                p_value = new_p[-1]  # Use the last value for epochs beyond the predefined ones\n",
    "            layer.update_p(p_value)\n",
    "            #print(f\"\\nEpoch {epoch + 1}: Updated layer {layer_name} sparsity p to {p_value}\")\n",
    "\n",
    "sparsity_schedule = {\n",
    "    'sparse_conv2d_1': [1],\n",
    "    'sparse_conv2d_2': [1],\n",
    "    'sparse_conv2d_3': [0.5]\n",
    "}"
   ]
  },
  {
   "cell_type": "code",
   "execution_count": 7,
   "id": "3ffa6bee-215e-4edd-8c01-afc06a1ce964",
   "metadata": {},
   "outputs": [],
   "source": [
    "# 编译模型\n",
    "model.compile(optimizer='adam',\n",
    "              loss='sparse_categorical_crossentropy',\n",
    "              metrics=['accuracy'])"
   ]
  },
  {
   "cell_type": "code",
   "execution_count": null,
   "id": "0434b5ba-7d1a-4f5e-b45e-e3b2ac4130f6",
   "metadata": {},
   "outputs": [
    {
     "name": "stdout",
     "output_type": "stream",
     "text": [
      "Epoch 1/40\n",
      "782/782 [==============================] - 5s 3ms/step - loss: 4.0878 - accuracy: 0.0679 - val_loss: 3.6766 - val_accuracy: 0.1318\n",
      "Epoch 2/40\n",
      "782/782 [==============================] - 3s 4ms/step - loss: 3.4689 - accuracy: 0.1652 - val_loss: 3.2719 - val_accuracy: 0.2066\n",
      "Epoch 3/40\n",
      "782/782 [==============================] - 3s 3ms/step - loss: 3.1366 - accuracy: 0.2290 - val_loss: 2.9552 - val_accuracy: 0.2677\n",
      "Epoch 4/40\n",
      "782/782 [==============================] - 2s 3ms/step - loss: 2.8949 - accuracy: 0.2753 - val_loss: 2.7890 - val_accuracy: 0.3047\n",
      "Epoch 5/40\n",
      "782/782 [==============================] - 3s 3ms/step - loss: 2.7147 - accuracy: 0.3083 - val_loss: 2.7113 - val_accuracy: 0.3216\n",
      "Epoch 6/40\n",
      "782/782 [==============================] - 3s 3ms/step - loss: 2.5685 - accuracy: 0.3410 - val_loss: 2.6340 - val_accuracy: 0.3372\n",
      "Epoch 7/40\n",
      "782/782 [==============================] - 2s 3ms/step - loss: 2.4370 - accuracy: 0.3677 - val_loss: 2.5489 - val_accuracy: 0.3518\n",
      "Epoch 8/40\n",
      "782/782 [==============================] - 3s 3ms/step - loss: 2.3259 - accuracy: 0.3939 - val_loss: 2.4726 - val_accuracy: 0.3720\n",
      "Epoch 9/40\n",
      "782/782 [==============================] - 2s 3ms/step - loss: 2.2203 - accuracy: 0.4172 - val_loss: 2.4053 - val_accuracy: 0.3879\n",
      "Epoch 10/40\n",
      "609/782 [======================>.......] - ETA: 0s - loss: 2.1193 - accuracy: 0.4362"
     ]
    }
   ],
   "source": [
    "# 训练模型，并在验证集上验证\n",
    "model.fit(train_images, train_labels, epochs=40, batch_size=64, validation_data=(test_images, test_labels), callbacks=[UpdatePSparsity(model, sparsity_schedule)])"
   ]
  }
 ],
 "metadata": {
  "kernelspec": {
   "display_name": "Python 3 (ipykernel)",
   "language": "python",
   "name": "python3"
  },
  "language_info": {
   "codemirror_mode": {
    "name": "ipython",
    "version": 3
   },
   "file_extension": ".py",
   "mimetype": "text/x-python",
   "name": "python",
   "nbconvert_exporter": "python",
   "pygments_lexer": "ipython3",
   "version": "3.7.12"
  }
 },
 "nbformat": 4,
 "nbformat_minor": 5
}
